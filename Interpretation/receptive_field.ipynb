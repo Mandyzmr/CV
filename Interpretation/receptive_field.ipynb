{
 "cells": [
  {
   "cell_type": "markdown",
   "id": "3c2b6e71-988c-49a7-9866-ea64d16cea23",
   "metadata": {},
   "source": [
    "## Receptive Field"
   ]
  },
  {
   "cell_type": "code",
   "execution_count": 2,
   "id": "7b7a2a33-8aee-423a-9c1a-952dd02330ff",
   "metadata": {},
   "outputs": [],
   "source": [
    "# Analysis\n",
    "import os\n",
    "import glob\n",
    "import numpy as np\n",
    "import pandas as pd\n",
    "import scipy\n",
    "\n",
    "# Plotting\n",
    "import PIL\n",
    "from PIL import ImageDraw, Image\n",
    "import seaborn as sns\n",
    "import cv2\n",
    "import matplotlib.pyplot as plt\n",
    "%matplotlib inline\n",
    "plt.rcParams['font.sans-serif']=['Arial Unicode MS'] \n",
    "plt.rcParams['axes.unicode_minus']=False "
   ]
  },
  {
   "cell_type": "markdown",
   "id": "53f8fa5f-32bf-41b2-93ce-8074e49fc90e",
   "metadata": {},
   "source": [
    "#### 卷积时，filter遍历原图区域的范围和频次"
   ]
  },
  {
   "cell_type": "markdown",
   "id": "41bd93c8-93e3-4458-ab4b-4c338951f0d3",
   "metadata": {},
   "source": [
    "<img src='images/dilation_conv.gif' style=\"height:150px\"></img>"
   ]
  },
  {
   "cell_type": "code",
   "execution_count": 3,
   "id": "e5868bbd-64c3-4894-a197-a984ebc0ddb6",
   "metadata": {},
   "outputs": [],
   "source": [
    "def receptive_field(n=17, f=3, s=1, d=1, p=0):\n",
    "    img = np.zeros([n,n])\n",
    "    img = np.pad(img, ((p,p),(p,p))) # padding\n",
    "    \n",
    "    f_d = f*d-d+1 #膨胀后的filter size\n",
    "    rf_filter = np.zeros([f_d,f_d]) #实际filter覆盖原图面积\n",
    "    for i in range(0,f_d,d):\n",
    "        for j in range(0,f_d,d):\n",
    "            rf_filter[i,j]+=1\n",
    "    \n",
    "    fm_n = int((n+2*p-f_d)/s+1) #feature map output shape\n",
    "    for i in range(fm_n): #每个filter点对应区域rf_pre_filter，空洞filter的点是隔开的，相当于用d做stride\n",
    "            for j in range(fm_n):\n",
    "                img[i*s:i*s+f_d,j*s:j*s+f_d] += rf_filter \n",
    "                \n",
    "    if p!=0: #把padding再次恢复0\n",
    "        img[:p,:]=img[-p:,:]=img[:,:p]=img[:,-p:]=0 \n",
    "    \n",
    "    plt.figure(figsize=(round((n+2*p)/4,1),round((n+2*p)/4,1)))\n",
    "    sns.heatmap(img, square=True, cbar=False, linewidth=1, linecolor='black', \n",
    "                xticklabels=False, yticklabels=False, cmap='Blues', annot=True)\n",
    "    plt.title(f'{n}x{n} Input -> {fm_n}x{fm_n} Output\\nFilter = {f} (d={d}), p={p}, s={s}')\n",
    "    plt.show();"
   ]
  },
  {
   "cell_type": "code",
   "execution_count": 4,
   "id": "8e5f1904-a7fc-4e8f-8095-06b3a3853a93",
   "metadata": {},
   "outputs": [
    {
     "data": {
      "image/png": "[encoded data removed]",
      "text/plain": [
       "<Figure size 288x288 with 1 Axes>"
      ]
     },
     "metadata": {},
     "output_type": "display_data"
    }
   ],
   "source": [
    "receptive_field(n=12, f=3, s=2, d=2, p=2)"
   ]
  },
  {
   "cell_type": "markdown",
   "id": "3054739a-bf14-4d33-834a-369fcb866825",
   "metadata": {},
   "source": [
    "#### 在第L层cov里，1个filter size所对应的原图receptive field"
   ]
  },
  {
   "cell_type": "code",
   "execution_count": 5,
   "id": "98b334ec-db13-4a55-a144-b7bbea63c9b8",
   "metadata": {},
   "outputs": [],
   "source": [
    "def receptive_field_filter(n=5, f=3, s=1, L=1, d=[1]): # L = len(d)\n",
    "    img = np.zeros([n,n])\n",
    "    f_d = f*d[0]-d[0]+1 #膨胀后的filter size\n",
    "    rf = 1+(f_d-1) #感受野大小\n",
    "    rf_filter = np.zeros([f_d,f_d]) #感受野实际覆盖原图面积\n",
    "    for i in range(0,f_d,d[0]):\n",
    "        for j in range(0,f_d,d[0]):\n",
    "            rf_filter[i,j]+=1\n",
    "        \n",
    "    for l in range(L-1): #遍历每一层\n",
    "        rf_pre_filter = np.where(rf_filter!=0,1,0) #有遍历过的地方为1，其余为0\n",
    "        f_d = f*d[l+1]-d[l+1]+1 #从d[1]开始索引，每次都是用原始f来计算当前的f_d\n",
    "        rf = rf+(f_d-1)*s\n",
    "        rf_filter = np.zeros([rf,rf]) \n",
    "        for i in range(0,f*d[l+1],d[l+1]): #每个filter点对应区域rf_pre_filter，空洞filter的点是隔开的，相当于用d做stride\n",
    "            for j in range(0,f*d[l+1],d[l+1]):\n",
    "                rf_filter[i:i+rf_pre_filter.shape[0],j:j+rf_pre_filter.shape[0]] += rf_pre_filter \n",
    "        \n",
    "    # 每个filter点对应的区域叠加\n",
    "    start = int((n-rf)/2) #对应原始范围第一个始点\n",
    "    end = start+rf_filter.shape[0] #end为最后一个始点的位置\n",
    "    img[start:end,start:end] = rf_filter #放在正中间\n",
    "    \n",
    "    plt.figure(figsize=(round(n/4,1),round(n/4,1)))\n",
    "    sns.heatmap(img, square=True, cbar=False, linewidth=1, linecolor='black', \n",
    "                xticklabels=False, yticklabels=False, cmap='Blues', annot=True)\n",
    "    plt.title(f'Layer {L}: Filter = {f} (d={d[-1]}) -> RF = {rf}')\n",
    "    plt.show();"
   ]
  },
  {
   "cell_type": "code",
   "execution_count": 6,
   "id": "fbee24ea-ef19-49b2-a417-07dc8e58c80f",
   "metadata": {},
   "outputs": [
    {
     "data": {
      "image/png": "[encoded data removed]",
      "text/plain": [
       "<Figure size 302.4x302.4 with 1 Axes>"
      ]
     },
     "metadata": {},
     "output_type": "display_data"
    }
   ],
   "source": [
    "receptive_field_filter(n=17, f=3, s=1, L=3, d=[1,1,3])"
   ]
  },
  {
   "cell_type": "code",
   "execution_count": null,
   "id": "45cff9e5-ed8a-4de7-b0a6-95223b6b4bc3",
   "metadata": {},
   "outputs": [],
   "source": []
  }
 ],
 "metadata": {
  "kernelspec": {
   "display_name": "Python 3 (ipykernel)",
   "language": "python",
   "name": "python3"
  },
  "language_info": {
   "codemirror_mode": {
    "name": "ipython",
    "version": 3
   },
   "file_extension": ".py",
   "mimetype": "text/x-python",
   "name": "python",
   "nbconvert_exporter": "python",
   "pygments_lexer": "ipython3",
   "version": "3.8.8"
  }
 },
 "nbformat": 4,
 "nbformat_minor": 5
}
